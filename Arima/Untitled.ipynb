{
 "cells": [
  {
   "cell_type": "code",
   "execution_count": null,
   "id": "6f9ff5d3-462d-4ebe-b5f6-071394bc938b",
   "metadata": {},
   "outputs": [],
   "source": []
  }
 ],
 "metadata": {
  "kernelspec": {
   "display_name": "",
   "name": ""
  },
  "language_info": {
   "name": ""
  }
 },
 "nbformat": 4,
 "nbformat_minor": 5
}

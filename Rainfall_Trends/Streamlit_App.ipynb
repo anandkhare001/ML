{
 "cells": [
  {
   "cell_type": "code",
   "execution_count": 3,
   "id": "50e8d2b3-2541-440a-a6c4-5bbafacfaa13",
   "metadata": {},
   "outputs": [
    {
     "name": "stderr",
     "output_type": "stream",
     "text": [
      "2024-12-07 19:29:35.713 Thread 'MainThread': missing ScriptRunContext! This warning can be ignored when running in bare mode.\n",
      "2024-12-07 19:29:35.713 Thread 'MainThread': missing ScriptRunContext! This warning can be ignored when running in bare mode.\n",
      "2024-12-07 19:29:35.713 Thread 'MainThread': missing ScriptRunContext! This warning can be ignored when running in bare mode.\n",
      "2024-12-07 19:29:35.713 Thread 'MainThread': missing ScriptRunContext! This warning can be ignored when running in bare mode.\n",
      "2024-12-07 19:29:35.713 Thread 'MainThread': missing ScriptRunContext! This warning can be ignored when running in bare mode.\n",
      "2024-12-07 19:29:35.713 Thread 'MainThread': missing ScriptRunContext! This warning can be ignored when running in bare mode.\n",
      "2024-12-07 19:29:35.713 Thread 'MainThread': missing ScriptRunContext! This warning can be ignored when running in bare mode.\n",
      "2024-12-07 19:29:35.713 Thread 'MainThread': missing ScriptRunContext! This warning can be ignored when running in bare mode.\n",
      "2024-12-07 19:29:35.782 Thread 'MainThread': missing ScriptRunContext! This warning can be ignored when running in bare mode.\n",
      "2024-12-07 19:29:35.782 Thread 'MainThread': missing ScriptRunContext! This warning can be ignored when running in bare mode.\n",
      "2024-12-07 19:29:35.798 Thread 'MainThread': missing ScriptRunContext! This warning can be ignored when running in bare mode.\n",
      "2024-12-07 19:29:35.798 Thread 'MainThread': missing ScriptRunContext! This warning can be ignored when running in bare mode.\n",
      "2024-12-07 19:29:35.798 Thread 'MainThread': missing ScriptRunContext! This warning can be ignored when running in bare mode.\n",
      "2024-12-07 19:29:35.798 Thread 'MainThread': missing ScriptRunContext! This warning can be ignored when running in bare mode.\n",
      "2024-12-07 19:29:35.798 Thread 'MainThread': missing ScriptRunContext! This warning can be ignored when running in bare mode.\n",
      "2024-12-07 19:29:35.798 Thread 'MainThread': missing ScriptRunContext! This warning can be ignored when running in bare mode.\n",
      "2024-12-07 19:29:35.798 Thread 'MainThread': missing ScriptRunContext! This warning can be ignored when running in bare mode.\n",
      "2024-12-07 19:29:35.798 Thread 'MainThread': missing ScriptRunContext! This warning can be ignored when running in bare mode.\n"
     ]
    }
   ],
   "source": [
    "import pickle\n",
    "import streamlit as st\n",
    "from prophet.plot import plot_plotly, plot_components_plotly\n",
    "\n",
    "\n",
    "# App Title\n",
    "st.title('Rainfall Forecast')\n",
    "\n",
    "# Get user input for number of years for forecast\n",
    "years = st.number_input('Number of years for forecast', min_value=1, max_value=50, value=1)\n",
    "\n",
    "# Simulate historical rainfall data (for demo purposes)\n",
    "with open(\"model.pkl\", \"rb\") as f:\n",
    "    model = pickle.load(f)\n",
    "\n",
    "# create a future dataframe for the next 20 years\n",
    "future = model.make_future_dataframe(periods=years, freq='YE')\n",
    "forecast = model.predict(future)\n",
    "\n",
    "fig_forecast = plot_plotly(model, forecast)\n",
    "\n",
    "fig_forecast.update_layout(\n",
    "    title=f'Rainfall Forecast for the Next {years} Year(s)',\n",
    "    xaxis_title='Year',\n",
    "    yaxis_title='Rainfall (mm)',\n",
    "    template='plotly_white',\n",
    "    height=500\n",
    ")\n",
    "\n",
    "\n",
    "# Plot the forecast\n",
    "st.plotly_chart(fig_forecast)\n",
    "\n",
    "# Show the forecasted data in a table format\n",
    "st.write(f'Forecasted rainfall for the next {years} year(s):')\n",
    "forecasted_data = forecast[['ds', 'yhat', 'yhat_lower', 'yhat_upper']]\n",
    "st.write(forecasted_data.tail(12))  # Show the forecast for the last 12 months\n"
   ]
  },
  {
   "cell_type": "code",
   "execution_count": null,
   "id": "abe9542b-f594-4ab1-89cb-a324c1bfd558",
   "metadata": {},
   "outputs": [],
   "source": []
  },
  {
   "cell_type": "code",
   "execution_count": null,
   "id": "4f62dd2b-b554-491d-8390-9e4c63f6c318",
   "metadata": {},
   "outputs": [],
   "source": []
  }
 ],
 "metadata": {
  "kernelspec": {
   "display_name": "Python 3 (ipykernel)",
   "language": "python",
   "name": "python3"
  },
  "language_info": {
   "codemirror_mode": {
    "name": "ipython",
    "version": 3
   },
   "file_extension": ".py",
   "mimetype": "text/x-python",
   "name": "python",
   "nbconvert_exporter": "python",
   "pygments_lexer": "ipython3",
   "version": "3.9.1"
  }
 },
 "nbformat": 4,
 "nbformat_minor": 5
}

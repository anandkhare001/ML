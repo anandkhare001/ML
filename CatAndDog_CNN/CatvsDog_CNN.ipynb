{
 "cells": [
  {
   "cell_type": "markdown",
   "id": "8e500787-4f90-4356-8abd-57372359157c",
   "metadata": {},
   "source": [
    "1. Import Libraries"
   ]
  },
  {
   "cell_type": "code",
   "execution_count": 6,
   "id": "c4b435ed-9a45-4adc-830d-b2fa2f79f119",
   "metadata": {},
   "outputs": [],
   "source": [
    "import tensorflow as tf\n",
    "from keras.preprocessing.image import ImageDataGenerator"
   ]
  },
  {
   "cell_type": "code",
   "execution_count": 7,
   "id": "7e804f86-fa42-4922-b949-3a2c4d96c654",
   "metadata": {},
   "outputs": [
    {
     "data": {
      "text/plain": [
       "'2.15.0'"
      ]
     },
     "execution_count": 7,
     "metadata": {},
     "output_type": "execute_result"
    }
   ],
   "source": [
    "tf.__version__"
   ]
  },
  {
   "cell_type": "markdown",
   "id": "dcbc0db0-47d0-48ce-a492-8cda9bebd829",
   "metadata": {},
   "source": [
    " Download data set form this link: \n",
    " \n",
    " https://www.kaggle.com/c/dogs-vs-cats/data?select=train.zip\n",
    " \n",
    " keep one cat and one dog iamge separately for prediction"
   ]
  },
  {
   "cell_type": "markdown",
   "id": "cbf15340-3754-470c-9fbc-b5eca0128b53",
   "metadata": {},
   "source": [
    "2. Data Preprocessing"
   ]
  },
  {
   "cell_type": "code",
   "execution_count": 15,
   "id": "d6ff63d2-9fb8-42a5-8213-a4eca475dff9",
   "metadata": {},
   "outputs": [
    {
     "name": "stdout",
     "output_type": "stream",
     "text": [
      "Found 25000 images belonging to 1 classes.\n",
      "Found 12494 images belonging to 1 classes.\n"
     ]
    }
   ],
   "source": [
    "# Preprocessing training set\n",
    "trainingData = ImageDataGenerator(\n",
    "                                rescale = 1./255,\n",
    "                                shear_range = 0.2,\n",
    "                                zoom_range = 0.2,\n",
    "                                horizontal_flip = True)\n",
    "trainingSet = trainingData.flow_from_directory('train',\n",
    "                                                target_size = (64, 64),\n",
    "                                               batch_size = 32,\n",
    "                                               class_mode = 'binary')\n",
    "\n",
    "# Preprocessing testing set\n",
    "testingData = ImageDataGenerator(rescale = 1./255)\n",
    "testSet = testingData.flow_from_directory('test',\n",
    "                                           target_size = (64, 64),\n",
    "                                           batch_size = 32,\n",
    "                                           class_mode = 'binary')                                        "
   ]
  },
  {
   "cell_type": "markdown",
   "id": "bebb8669-c724-4418-8270-874bc7708c6e",
   "metadata": {},
   "source": [
    "3. Building CNN"
   ]
  },
  {
   "cell_type": "code",
   "execution_count": 16,
   "id": "80e0dc31-d21a-4ece-bbf3-349bbd893329",
   "metadata": {},
   "outputs": [],
   "source": [
    "# Initialise CNN\n",
    "cnn = tf.keras.models.Sequential()\n",
    "\n",
    "# Step 1 Convolution\n",
    "cnn.add(tf.keras.layers.Conv2D(filters = 32, \n",
    "                               kernel_size = 3,\n",
    "                               activation = 'relu',\n",
    "                               input_shape = [64, 64, 3])) # 64, 64 for iamge size above and 3 for color iamge\n",
    "\n",
    "# Step 2 Pooling\n",
    "cnn.add(tf.keras.layers.MaxPool2D(pool_size = 2, # kernel size 2,2\n",
    "                                   strides = 2)) # 2 pixel movement\n",
    "\n",
    "# Add second convolutional and pooling layer\n",
    "cnn.add(tf.keras.layers.Conv2D(filters = 32, # Image size is already defined in first alyer\n",
    "                               kernel_size = 3,\n",
    "                               activation = 'relu'))\n",
    "cnn.add(tf.keras.layers.MaxPool2D(pool_size = 2, strides = 2))\n",
    "\n",
    "\n",
    "# Step 3 Flattening\n",
    "cnn.add(tf.keras.layers.Flatten())\n",
    "\n",
    "# Step 4 Full Connection\n",
    "cnn.add(tf.keras.layers.Dense(units = 1128, activation = 'relu'))\n",
    "\n",
    "# Step 5 Output Layer\n",
    "cnn.add(tf.keras.layers.Dense(units = 1, activation = 'sigmoid'))"
   ]
  },
  {
   "cell_type": "markdown",
   "id": "c5e7af51-5848-4550-a4e1-7af0201fe726",
   "metadata": {},
   "source": [
    "4. Training the CNN"
   ]
  },
  {
   "cell_type": "code",
   "execution_count": 17,
   "id": "09347db8-7611-40e3-960b-630eac016bae",
   "metadata": {},
   "outputs": [
    {
     "name": "stdout",
     "output_type": "stream",
     "text": [
      "WARNING:tensorflow:From C:\\Users\\ANAND\\AppData\\Local\\Programs\\Python\\Python311\\Lib\\site-packages\\keras\\src\\optimizers\\__init__.py:309: The name tf.train.Optimizer is deprecated. Please use tf.compat.v1.train.Optimizer instead.\n",
      "\n",
      "Epoch 1/25\n",
      "WARNING:tensorflow:From C:\\Users\\ANAND\\AppData\\Local\\Programs\\Python\\Python311\\Lib\\site-packages\\keras\\src\\utils\\tf_utils.py:492: The name tf.ragged.RaggedTensorValue is deprecated. Please use tf.compat.v1.ragged.RaggedTensorValue instead.\n",
      "\n",
      "WARNING:tensorflow:From C:\\Users\\ANAND\\AppData\\Local\\Programs\\Python\\Python311\\Lib\\site-packages\\keras\\src\\engine\\base_layer_utils.py:384: The name tf.executing_eagerly_outside_functions is deprecated. Please use tf.compat.v1.executing_eagerly_outside_functions instead.\n",
      "\n",
      "782/782 [==============================] - 1028s 1s/step - loss: 7.6543e-04 - accuracy: 1.0000 - val_loss: 3.2520e-15 - val_accuracy: 1.0000\n",
      "Epoch 2/25\n",
      "782/782 [==============================] - 262s 335ms/step - loss: 3.7852e-13 - accuracy: 1.0000 - val_loss: 3.2519e-15 - val_accuracy: 1.0000\n",
      "Epoch 3/25\n",
      "782/782 [==============================] - 235s 300ms/step - loss: 2.7967e-15 - accuracy: 1.0000 - val_loss: 3.2519e-15 - val_accuracy: 1.0000\n",
      "Epoch 4/25\n",
      "782/782 [==============================] - 279s 357ms/step - loss: 3.1984e-15 - accuracy: 1.0000 - val_loss: 3.2519e-15 - val_accuracy: 1.0000\n",
      "Epoch 5/25\n",
      "782/782 [==============================] - 260s 333ms/step - loss: 3.6452e-14 - accuracy: 1.0000 - val_loss: 3.2519e-15 - val_accuracy: 1.0000\n",
      "Epoch 6/25\n",
      "782/782 [==============================] - 249s 318ms/step - loss: 2.1146e-15 - accuracy: 1.0000 - val_loss: 3.2519e-15 - val_accuracy: 1.0000\n",
      "Epoch 7/25\n",
      "782/782 [==============================] - 266s 340ms/step - loss: 1.9864e-15 - accuracy: 1.0000 - val_loss: 3.2519e-15 - val_accuracy: 1.0000\n",
      "Epoch 8/25\n",
      "782/782 [==============================] - 277s 353ms/step - loss: 5.3880e-16 - accuracy: 1.0000 - val_loss: 3.2519e-15 - val_accuracy: 1.0000\n",
      "Epoch 9/25\n",
      "782/782 [==============================] - 251s 321ms/step - loss: 2.8265e-15 - accuracy: 1.0000 - val_loss: 3.2519e-15 - val_accuracy: 1.0000\n",
      "Epoch 10/25\n",
      "782/782 [==============================] - 280s 359ms/step - loss: 1.3487e-15 - accuracy: 1.0000 - val_loss: 3.2519e-15 - val_accuracy: 1.0000\n",
      "Epoch 11/25\n",
      "782/782 [==============================] - 260s 331ms/step - loss: 8.5248e-16 - accuracy: 1.0000 - val_loss: 3.2519e-15 - val_accuracy: 1.0000\n",
      "Epoch 12/25\n",
      "782/782 [==============================] - 270s 344ms/step - loss: 8.3326e-15 - accuracy: 1.0000 - val_loss: 3.2519e-15 - val_accuracy: 1.0000\n",
      "Epoch 13/25\n",
      "782/782 [==============================] - 239s 305ms/step - loss: 1.6083e-15 - accuracy: 1.0000 - val_loss: 3.2519e-15 - val_accuracy: 1.0000\n",
      "Epoch 14/25\n",
      "782/782 [==============================] - 259s 331ms/step - loss: 7.7387e-16 - accuracy: 1.0000 - val_loss: 3.2519e-15 - val_accuracy: 1.0000\n",
      "Epoch 15/25\n",
      "782/782 [==============================] - 225s 287ms/step - loss: 2.1220e-15 - accuracy: 1.0000 - val_loss: 3.2518e-15 - val_accuracy: 1.0000\n",
      "Epoch 16/25\n",
      "782/782 [==============================] - 215s 275ms/step - loss: 2.8385e-15 - accuracy: 1.0000 - val_loss: 3.2518e-15 - val_accuracy: 1.0000\n",
      "Epoch 17/25\n",
      "782/782 [==============================] - 210s 269ms/step - loss: 1.9363e-13 - accuracy: 1.0000 - val_loss: 3.2418e-15 - val_accuracy: 1.0000\n",
      "Epoch 18/25\n",
      "782/782 [==============================] - 210s 269ms/step - loss: 3.8439e-15 - accuracy: 1.0000 - val_loss: 3.2417e-15 - val_accuracy: 1.0000\n",
      "Epoch 19/25\n",
      "782/782 [==============================] - 220s 281ms/step - loss: 3.1686e-14 - accuracy: 1.0000 - val_loss: 3.2391e-15 - val_accuracy: 1.0000\n",
      "Epoch 20/25\n",
      "782/782 [==============================] - 220s 281ms/step - loss: 1.9237e-14 - accuracy: 1.0000 - val_loss: 3.2370e-15 - val_accuracy: 1.0000\n",
      "Epoch 21/25\n",
      "782/782 [==============================] - 226s 288ms/step - loss: 2.0384e-15 - accuracy: 1.0000 - val_loss: 3.2365e-15 - val_accuracy: 1.0000\n",
      "Epoch 22/25\n",
      "782/782 [==============================] - 220s 282ms/step - loss: 2.0650e-15 - accuracy: 1.0000 - val_loss: 3.2363e-15 - val_accuracy: 1.0000\n",
      "Epoch 23/25\n",
      "782/782 [==============================] - 220s 281ms/step - loss: 5.6300e-15 - accuracy: 1.0000 - val_loss: 3.2353e-15 - val_accuracy: 1.0000\n",
      "Epoch 24/25\n",
      "782/782 [==============================] - 244s 312ms/step - loss: 3.0676e-15 - accuracy: 1.0000 - val_loss: 3.2347e-15 - val_accuracy: 1.0000\n",
      "Epoch 25/25\n",
      "782/782 [==============================] - 211s 269ms/step - loss: 4.7099e-15 - accuracy: 1.0000 - val_loss: 3.2335e-15 - val_accuracy: 1.0000\n"
     ]
    },
    {
     "data": {
      "text/plain": [
       "<keras.src.callbacks.History at 0x5ab82e7c10>"
      ]
     },
     "execution_count": 17,
     "metadata": {},
     "output_type": "execute_result"
    }
   ],
   "source": [
    "# Compile the model\n",
    "cnn.compile(optimizer = 'adam',\n",
    "            loss = 'binary_crossentropy',\n",
    "            metrics = ['accuracy'])\n",
    "cnn.fit(x = trainingSet, validation_data = testSet, epochs =25)"
   ]
  },
  {
   "cell_type": "markdown",
   "id": "d6210580-4009-429f-bdcd-6922df5c0b33",
   "metadata": {},
   "source": [
    "5. Making a prediction"
   ]
  },
  {
   "cell_type": "code",
   "execution_count": 26,
   "id": "ad356240-11ae-4e1c-b0bb-87dd5a295dbf",
   "metadata": {},
   "outputs": [
    {
     "name": "stdout",
     "output_type": "stream",
     "text": [
      "1/1 [==============================] - 0s 100ms/step\n",
      "Its a cat .\n"
     ]
    }
   ],
   "source": [
    "import numpy as np\n",
    "from keras.preprocessing import image\n",
    "\n",
    "testImage = image.load_img('prediction/PredImg1.jpg', \n",
    "                           target_size = (64, 64))\n",
    "testImage = image.img_to_array(testImage)\n",
    "testImage = np.expand_dims(testImage, axis = 0)\n",
    "result = cnn.predict(testImage)\n",
    "\n",
    "trainingSet.class_indices\n",
    "\n",
    "if result[0][0] == 1:\n",
    "    prediction = 'dog'\n",
    "else:\n",
    "    prediction = 'cat'\n",
    "\n",
    "print('Its a', prediction,  '.')"
   ]
  },
  {
   "cell_type": "code",
   "execution_count": null,
   "id": "a49982d4-3188-42dc-9cfb-29b99abc5276",
   "metadata": {},
   "outputs": [],
   "source": []
  }
 ],
 "metadata": {
  "kernelspec": {
   "display_name": "Python 3 (ipykernel)",
   "language": "python",
   "name": "python3"
  },
  "language_info": {
   "codemirror_mode": {
    "name": "ipython",
    "version": 3
   },
   "file_extension": ".py",
   "mimetype": "text/x-python",
   "name": "python",
   "nbconvert_exporter": "python",
   "pygments_lexer": "ipython3",
   "version": "3.11.5"
  }
 },
 "nbformat": 4,
 "nbformat_minor": 5
}

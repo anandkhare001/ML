{
 "cells": [
  {
   "cell_type": "code",
   "execution_count": 50,
   "id": "40f4fa56-1564-4eb5-8bbb-cbca1f304e77",
   "metadata": {},
   "outputs": [],
   "source": [
    "from openai import OpenAI\n",
    "import os"
   ]
  },
  {
   "cell_type": "code",
   "execution_count": 51,
   "id": "bf64a264-2d26-4fc6-85f5-c761beacb5a9",
   "metadata": {},
   "outputs": [],
   "source": [
    "client = OpenAI(api_key=\"\")"
   ]
  },
  {
   "cell_type": "code",
   "execution_count": 52,
   "id": "09e6f81e-4082-4cbc-b9d5-1bd20967eb9d",
   "metadata": {},
   "outputs": [],
   "source": [
    "uploaded_file = client.files.create(\n",
    "    file=open(\"Welcome to our extensive MLOps Bootcamp.pdf\", 'rb'),\n",
    "    purpose='assistants'\n",
    ")"
   ]
  },
  {
   "cell_type": "code",
   "execution_count": 53,
   "id": "762b90b9-b321-4a6b-a887-e333e5a7fe6d",
   "metadata": {},
   "outputs": [
    {
     "data": {
      "text/plain": [
       "FileObject(id='file-8bh4216zywlokjky1vmeVhWM', bytes=350109, created_at=1720025888, filename='Welcome to our extensive MLOps Bootcamp.pdf', object='file', purpose='assistants', status='processed', status_details=None)"
      ]
     },
     "execution_count": 53,
     "metadata": {},
     "output_type": "execute_result"
    }
   ],
   "source": [
    "uploaded_file"
   ]
  },
  {
   "cell_type": "code",
   "execution_count": 54,
   "id": "a7c451d9-1e53-4793-8829-cf78dc8f719d",
   "metadata": {},
   "outputs": [],
   "source": [
    "# Step 1: Create an Assistant\n",
    "assistant = client.beta.assistants.create(\n",
    "  name=\"Course Browser\",\n",
    "  instructions=\"You are an assistant to provide details about the course.\",\n",
    "  model=\"gpt-3.5-turbo\",\n",
    "  tools=[{\"type\": \"retrieval\"}],\n",
    "    file_ids=[uploaded_file.id]\n",
    ")"
   ]
  },
  {
   "cell_type": "code",
   "execution_count": 55,
   "id": "882e7ccb-c9d1-4f94-ba8d-cfa9002381f1",
   "metadata": {},
   "outputs": [
    {
     "data": {
      "text/plain": [
       "Assistant(id='asst_P4IkyVuhIGNiix2Spx9kX1ds', created_at=1720025889, description=None, file_ids=['file-8bh4216zywlokjky1vmeVhWM'], instructions='You are an assistant to provide details about the course.', metadata={}, model='gpt-3.5-turbo', name='Course Browser', object='assistant', tools=[ToolRetrieval(type='retrieval')], top_p=1.0, temperature=1.0, response_format='auto')"
      ]
     },
     "execution_count": 55,
     "metadata": {},
     "output_type": "execute_result"
    }
   ],
   "source": [
    "assistant"
   ]
  },
  {
   "cell_type": "code",
   "execution_count": 56,
   "id": "16f68faa-2614-4f3c-aca5-913e887661d4",
   "metadata": {},
   "outputs": [
    {
     "data": {
      "text/plain": [
       "Thread(id='thread_47btdYAclnDo0qc2VQ8O9b3h', created_at=1720025891, metadata={}, object='thread')"
      ]
     },
     "execution_count": 56,
     "metadata": {},
     "output_type": "execute_result"
    }
   ],
   "source": [
    "thread = client.beta.threads.create()\n",
    "thread"
   ]
  },
  {
   "cell_type": "code",
   "execution_count": 57,
   "id": "1c348158-e981-4e94-854b-7c21882c0aa3",
   "metadata": {},
   "outputs": [],
   "source": [
    "message = client.beta.threads.messages.create(\n",
    "            thread_id=thread.id,\n",
    "            role='user',\n",
    "            content=\"What is the content of 'Packaging the ML models'.\"\n",
    ")"
   ]
  },
  {
   "cell_type": "code",
   "execution_count": 58,
   "id": "0a087545-4673-4c77-8e8b-c8caffa45a9f",
   "metadata": {},
   "outputs": [
    {
     "data": {
      "text/plain": [
       "Run(id='run_C880pR7NYVRGy063KzsIPSEm', assistant_id='asst_P4IkyVuhIGNiix2Spx9kX1ds', cancelled_at=None, completed_at=None, created_at=1720025892, expires_at=1720026492, failed_at=None, file_ids=['file-8bh4216zywlokjky1vmeVhWM'], instructions='Help the user on course query.', last_error=None, metadata={}, model='gpt-3.5-turbo', object='thread.run', required_action=None, started_at=None, status='queued', thread_id='thread_47btdYAclnDo0qc2VQ8O9b3h', tools=[ToolAssistantToolsRetrieval(type='retrieval')], usage=None, temperature=1.0, top_p=1.0, max_completion_tokens=None, max_prompt_tokens=None, truncation_strategy={'type': 'auto', 'last_messages': None}, incomplete_details=None, response_format='auto', tool_choice='auto', parallel_tool_calls=True)"
      ]
     },
     "execution_count": 58,
     "metadata": {},
     "output_type": "execute_result"
    }
   ],
   "source": [
    "run = client.beta.threads.runs.create(\n",
    "            thread_id=thread.id,\n",
    "            assistant_id=assistant.id,\n",
    "            instructions=\"Help the user on course query.\"\n",
    "            )\n",
    "run    "
   ]
  },
  {
   "cell_type": "code",
   "execution_count": 59,
   "id": "cad00db7-7c3a-49a7-8533-f07f1bbb92d3",
   "metadata": {},
   "outputs": [
    {
     "name": "stdout",
     "output_type": "stream",
     "text": [
      "The section on \"Packaging the ML Models\" covers the following points:\n",
      "- Delving into the art of packaging Machine Learning models.\n",
      "- Exploring different packaging techniques and their implications.\n",
      "- Ensuring that ML models are easily deployable and reproducible【5†source】.\n"
     ]
    }
   ],
   "source": [
    "    while True:\n",
    "        run = client.beta.threads.runs.retrieve(thread_id=thread.id, run_id=run.id)\n",
    "        if run.status == 'completed':\n",
    "            messages = client.beta.threads.messages.list(thread_id=thread.id)\n",
    "            latest_message = messages.data[0]\n",
    "            text = latest_message.content[0].text.value\n",
    "            print(text)\n",
    "            break"
   ]
  },
  {
   "cell_type": "code",
   "execution_count": null,
   "id": "75543d4c-8a15-435b-8db3-d26f29f36170",
   "metadata": {},
   "outputs": [],
   "source": []
  }
 ],
 "metadata": {
  "kernelspec": {
   "display_name": "Python 3 (ipykernel)",
   "language": "python",
   "name": "python3"
  },
  "language_info": {
   "codemirror_mode": {
    "name": "ipython",
    "version": 3
   },
   "file_extension": ".py",
   "mimetype": "text/x-python",
   "name": "python",
   "nbconvert_exporter": "python",
   "pygments_lexer": "ipython3",
   "version": "3.11.5"
  }
 },
 "nbformat": 4,
 "nbformat_minor": 5
}

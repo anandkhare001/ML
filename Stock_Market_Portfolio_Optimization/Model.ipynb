{
 "cells": [
  {
   "cell_type": "markdown",
   "id": "0b2f1159-d6cc-4b15-b106-aa9b8aab3625",
   "metadata": {},
   "source": [
    "### Stock Market Portfolio Optimization: Getting Started\n",
    "\n",
    "Stock market portfolio optimization involves analyzing price trends, calculating expected returns and volatilities, and determining the correlations between different stocks to achieve diversification. Using techniques such as Modern Portfolio Theory (MPT), we can construct an efficient portfolio that relies on the efficient frontier to represent the optimal trade-off between risk and return.\n",
    "\n",
    "The expected results from stock market portfolio optimization include identifying the portfolio with the highest Sharpe ratio, which indicates the best risk-adjusted return and provides a clear allocation strategy for the selected stocks to achieve long-term investment goals.\n",
    "\n",
    "Now, let’s get started with the task of stock market portfolio optimization by importing the necessary Python libraries and collecting the stock market data using the yfinance API"
   ]
  },
  {
   "cell_type": "code",
   "execution_count": 22,
   "id": "42cc0fd6-195f-4a60-800e-20516d918ae6",
   "metadata": {},
   "outputs": [],
   "source": [
    "import pandas as pd\n",
    "import yfinance as yf\n",
    "from datetime import date, timedelta\n",
    "\n",
    "# define the time period for the data\n",
    "end_date = date.today().strftime(\"%Y-%m-%d\")\n",
    "start_date = (date.today() - timedelta(days=365)).strftime(\"%Y-%m-%d\")\n",
    "\n",
    "# list of stock tickers to download\n",
    "tickers = ['RELIANCE.NS', 'TCS.NS', 'INFY.NS', 'HDFCBANK.NS']\n",
    "\n",
    "data = yf.download(tickers, start=start_date, end=end_date, progress=False)\n"
   ]
  },
  {
   "cell_type": "code",
   "execution_count": 11,
   "id": "9176a252-c694-4873-95cc-4348e0827dde",
   "metadata": {},
   "outputs": [
    {
     "name": "stdout",
     "output_type": "stream",
     "text": [
      "Price             Close                                                High  \\\n",
      "Ticker      HDFCBANK.NS      INFY.NS  RELIANCE.NS       TCS.NS  HDFCBANK.NS   \n",
      "Date                                                                          \n",
      "2024-01-15  1650.264893  1610.613770  1389.409424  3848.345215  1658.255749   \n",
      "2024-01-16  1656.529419  1590.579712  1369.975342  3806.448975  1660.968797   \n",
      "2024-01-17  1516.787598  1599.012573  1356.969360  3829.417969  1575.288787   \n",
      "2024-01-18  1466.129395  1601.352295  1363.322876  3847.162354  1494.590718   \n",
      "2024-01-19  1450.838135  1617.535400  1362.824585  3896.022705  1489.904639   \n",
      "\n",
      "Price                                                      Low               \\\n",
      "Ticker          INFY.NS  RELIANCE.NS       TCS.NS  HDFCBANK.NS      INFY.NS   \n",
      "Date                                                                          \n",
      "2024-01-15  1623.141067  1391.726511  3908.675799  1621.458189  1594.918084   \n",
      "2024-01-16  1607.104028  1391.577075  3843.613385  1635.762945  1584.194143   \n",
      "2024-01-17  1606.129309  1381.585884  3854.407719  1507.810212  1579.563589   \n",
      "2024-01-18  1607.591607  1366.362608  3853.274232  1460.111595  1587.362665   \n",
      "2024-01-19  1623.677247  1371.345713  3916.278209  1448.618446  1602.863396   \n",
      "\n",
      "Price                                        Open                            \\\n",
      "Ticker      RELIANCE.NS       TCS.NS  HDFCBANK.NS      INFY.NS  RELIANCE.NS   \n",
      "Date                                                                          \n",
      "2024-01-15  1361.379556  3829.812227  1625.502931  1603.643291  1370.349113   \n",
      "2024-01-16  1365.864295  3800.780655  1650.462244  1603.496987  1385.273396   \n",
      "2024-01-17  1350.441589  3758.391417  1548.849775  1579.563589  1354.901428   \n",
      "2024-01-18  1346.679412  3807.138994  1473.873619  1601.401087  1346.828929   \n",
      "2024-01-19  1354.403216  3868.356651  1485.662518  1610.126270  1371.345713   \n",
      "\n",
      "Price                        Volume                                 \n",
      "Ticker           TCS.NS HDFCBANK.NS   INFY.NS RELIANCE.NS   TCS.NS  \n",
      "Date                                                                \n",
      "2024-01-15  3903.746826    14160178  13228305     8610594  2801505  \n",
      "2024-01-16  3843.613385    12661250   6500917     9069024  1432672  \n",
      "2024-01-17  3764.749744    85072618   9209876    12197382  3458696  \n",
      "2024-01-18  3842.627602    80535465   6375464    10279438  2239110  \n",
      "2024-01-19  3897.949400    54800269   4522736    10422704  2941975  \n"
     ]
    }
   ],
   "source": [
    "print(data.head())"
   ]
  },
  {
   "cell_type": "code",
   "execution_count": 12,
   "id": "588fb17a-943c-47cb-8480-8f5b6422234e",
   "metadata": {},
   "outputs": [
    {
     "name": "stdout",
     "output_type": "stream",
     "text": [
      "MultiIndex([( 'Close', 'HDFCBANK.NS'),\n",
      "            ( 'Close',     'INFY.NS'),\n",
      "            ( 'Close', 'RELIANCE.NS'),\n",
      "            ( 'Close',      'TCS.NS'),\n",
      "            (  'High', 'HDFCBANK.NS'),\n",
      "            (  'High',     'INFY.NS'),\n",
      "            (  'High', 'RELIANCE.NS'),\n",
      "            (  'High',      'TCS.NS'),\n",
      "            (   'Low', 'HDFCBANK.NS'),\n",
      "            (   'Low',     'INFY.NS'),\n",
      "            (   'Low', 'RELIANCE.NS'),\n",
      "            (   'Low',      'TCS.NS'),\n",
      "            (  'Open', 'HDFCBANK.NS'),\n",
      "            (  'Open',     'INFY.NS'),\n",
      "            (  'Open', 'RELIANCE.NS'),\n",
      "            (  'Open',      'TCS.NS'),\n",
      "            ('Volume', 'HDFCBANK.NS'),\n",
      "            ('Volume',     'INFY.NS'),\n",
      "            ('Volume', 'RELIANCE.NS'),\n",
      "            ('Volume',      'TCS.NS')],\n",
      "           names=['Price', 'Ticker'])\n"
     ]
    }
   ],
   "source": [
    "print(data.columns)"
   ]
  },
  {
   "cell_type": "code",
   "execution_count": 15,
   "id": "d64c441c-f70d-4d0c-bd5c-a75040e8c982",
   "metadata": {},
   "outputs": [
    {
     "data": {
      "text/plain": [
       "MultiIndex([('level_0',            ''),\n",
       "            (  'index',            ''),\n",
       "            (   'Date',            ''),\n",
       "            (  'Close', 'HDFCBANK.NS'),\n",
       "            (  'Close',     'INFY.NS'),\n",
       "            (  'Close', 'RELIANCE.NS'),\n",
       "            (  'Close',      'TCS.NS'),\n",
       "            (   'High', 'HDFCBANK.NS'),\n",
       "            (   'High',     'INFY.NS'),\n",
       "            (   'High', 'RELIANCE.NS'),\n",
       "            (   'High',      'TCS.NS'),\n",
       "            (    'Low', 'HDFCBANK.NS'),\n",
       "            (    'Low',     'INFY.NS'),\n",
       "            (    'Low', 'RELIANCE.NS'),\n",
       "            (    'Low',      'TCS.NS'),\n",
       "            (   'Open', 'HDFCBANK.NS'),\n",
       "            (   'Open',     'INFY.NS'),\n",
       "            (   'Open', 'RELIANCE.NS'),\n",
       "            (   'Open',      'TCS.NS'),\n",
       "            ( 'Volume', 'HDFCBANK.NS'),\n",
       "            ( 'Volume',     'INFY.NS'),\n",
       "            ( 'Volume', 'RELIANCE.NS'),\n",
       "            ( 'Volume',      'TCS.NS')],\n",
       "           names=['Price', 'Ticker'])"
      ]
     },
     "execution_count": 15,
     "metadata": {},
     "output_type": "execute_result"
    }
   ],
   "source": [
    "data = data.reset_index()\n",
    "data.columns"
   ]
  },
  {
   "cell_type": "code",
   "execution_count": 16,
   "id": "4247dfcd-bc24-479f-8ad3-e48bc6e38681",
   "metadata": {},
   "outputs": [
    {
     "data": {
      "text/html": [
       "<div>\n",
       "<style scoped>\n",
       "    .dataframe tbody tr th:only-of-type {\n",
       "        vertical-align: middle;\n",
       "    }\n",
       "\n",
       "    .dataframe tbody tr th {\n",
       "        vertical-align: top;\n",
       "    }\n",
       "\n",
       "    .dataframe thead tr th {\n",
       "        text-align: left;\n",
       "    }\n",
       "</style>\n",
       "<table border=\"1\" class=\"dataframe\">\n",
       "  <thead>\n",
       "    <tr>\n",
       "      <th>Price</th>\n",
       "      <th>level_0</th>\n",
       "      <th>index</th>\n",
       "      <th>Date</th>\n",
       "      <th colspan=\"4\" halign=\"left\">Close</th>\n",
       "      <th colspan=\"3\" halign=\"left\">High</th>\n",
       "      <th>...</th>\n",
       "      <th colspan=\"2\" halign=\"left\">Low</th>\n",
       "      <th colspan=\"4\" halign=\"left\">Open</th>\n",
       "      <th colspan=\"4\" halign=\"left\">Volume</th>\n",
       "    </tr>\n",
       "    <tr>\n",
       "      <th>Ticker</th>\n",
       "      <th></th>\n",
       "      <th></th>\n",
       "      <th></th>\n",
       "      <th>HDFCBANK.NS</th>\n",
       "      <th>INFY.NS</th>\n",
       "      <th>RELIANCE.NS</th>\n",
       "      <th>TCS.NS</th>\n",
       "      <th>HDFCBANK.NS</th>\n",
       "      <th>INFY.NS</th>\n",
       "      <th>RELIANCE.NS</th>\n",
       "      <th>...</th>\n",
       "      <th>RELIANCE.NS</th>\n",
       "      <th>TCS.NS</th>\n",
       "      <th>HDFCBANK.NS</th>\n",
       "      <th>INFY.NS</th>\n",
       "      <th>RELIANCE.NS</th>\n",
       "      <th>TCS.NS</th>\n",
       "      <th>HDFCBANK.NS</th>\n",
       "      <th>INFY.NS</th>\n",
       "      <th>RELIANCE.NS</th>\n",
       "      <th>TCS.NS</th>\n",
       "    </tr>\n",
       "  </thead>\n",
       "  <tbody>\n",
       "    <tr>\n",
       "      <th>0</th>\n",
       "      <td>0</td>\n",
       "      <td>0</td>\n",
       "      <td>2024-01-15</td>\n",
       "      <td>1650.264893</td>\n",
       "      <td>1610.613770</td>\n",
       "      <td>1389.409424</td>\n",
       "      <td>3848.345215</td>\n",
       "      <td>1658.255749</td>\n",
       "      <td>1623.141067</td>\n",
       "      <td>1391.726511</td>\n",
       "      <td>...</td>\n",
       "      <td>1361.379556</td>\n",
       "      <td>3829.812227</td>\n",
       "      <td>1625.502931</td>\n",
       "      <td>1603.643291</td>\n",
       "      <td>1370.349113</td>\n",
       "      <td>3903.746826</td>\n",
       "      <td>14160178</td>\n",
       "      <td>13228305</td>\n",
       "      <td>8610594</td>\n",
       "      <td>2801505</td>\n",
       "    </tr>\n",
       "    <tr>\n",
       "      <th>1</th>\n",
       "      <td>1</td>\n",
       "      <td>1</td>\n",
       "      <td>2024-01-16</td>\n",
       "      <td>1656.529419</td>\n",
       "      <td>1590.579712</td>\n",
       "      <td>1369.975342</td>\n",
       "      <td>3806.448975</td>\n",
       "      <td>1660.968797</td>\n",
       "      <td>1607.104028</td>\n",
       "      <td>1391.577075</td>\n",
       "      <td>...</td>\n",
       "      <td>1365.864295</td>\n",
       "      <td>3800.780655</td>\n",
       "      <td>1650.462244</td>\n",
       "      <td>1603.496987</td>\n",
       "      <td>1385.273396</td>\n",
       "      <td>3843.613385</td>\n",
       "      <td>12661250</td>\n",
       "      <td>6500917</td>\n",
       "      <td>9069024</td>\n",
       "      <td>1432672</td>\n",
       "    </tr>\n",
       "    <tr>\n",
       "      <th>2</th>\n",
       "      <td>2</td>\n",
       "      <td>2</td>\n",
       "      <td>2024-01-17</td>\n",
       "      <td>1516.787598</td>\n",
       "      <td>1599.012573</td>\n",
       "      <td>1356.969360</td>\n",
       "      <td>3829.417969</td>\n",
       "      <td>1575.288787</td>\n",
       "      <td>1606.129309</td>\n",
       "      <td>1381.585884</td>\n",
       "      <td>...</td>\n",
       "      <td>1350.441589</td>\n",
       "      <td>3758.391417</td>\n",
       "      <td>1548.849775</td>\n",
       "      <td>1579.563589</td>\n",
       "      <td>1354.901428</td>\n",
       "      <td>3764.749744</td>\n",
       "      <td>85072618</td>\n",
       "      <td>9209876</td>\n",
       "      <td>12197382</td>\n",
       "      <td>3458696</td>\n",
       "    </tr>\n",
       "    <tr>\n",
       "      <th>3</th>\n",
       "      <td>3</td>\n",
       "      <td>3</td>\n",
       "      <td>2024-01-18</td>\n",
       "      <td>1466.129395</td>\n",
       "      <td>1601.352295</td>\n",
       "      <td>1363.322876</td>\n",
       "      <td>3847.162354</td>\n",
       "      <td>1494.590718</td>\n",
       "      <td>1607.591607</td>\n",
       "      <td>1366.362608</td>\n",
       "      <td>...</td>\n",
       "      <td>1346.679412</td>\n",
       "      <td>3807.138994</td>\n",
       "      <td>1473.873619</td>\n",
       "      <td>1601.401087</td>\n",
       "      <td>1346.828929</td>\n",
       "      <td>3842.627602</td>\n",
       "      <td>80535465</td>\n",
       "      <td>6375464</td>\n",
       "      <td>10279438</td>\n",
       "      <td>2239110</td>\n",
       "    </tr>\n",
       "    <tr>\n",
       "      <th>4</th>\n",
       "      <td>4</td>\n",
       "      <td>4</td>\n",
       "      <td>2024-01-19</td>\n",
       "      <td>1450.838135</td>\n",
       "      <td>1617.535400</td>\n",
       "      <td>1362.824585</td>\n",
       "      <td>3896.022705</td>\n",
       "      <td>1489.904639</td>\n",
       "      <td>1623.677247</td>\n",
       "      <td>1371.345713</td>\n",
       "      <td>...</td>\n",
       "      <td>1354.403216</td>\n",
       "      <td>3868.356651</td>\n",
       "      <td>1485.662518</td>\n",
       "      <td>1610.126270</td>\n",
       "      <td>1371.345713</td>\n",
       "      <td>3897.949400</td>\n",
       "      <td>54800269</td>\n",
       "      <td>4522736</td>\n",
       "      <td>10422704</td>\n",
       "      <td>2941975</td>\n",
       "    </tr>\n",
       "  </tbody>\n",
       "</table>\n",
       "<p>5 rows × 23 columns</p>\n",
       "</div>"
      ],
      "text/plain": [
       "Price  level_0 index       Date        Close                            \\\n",
       "Ticker                           HDFCBANK.NS      INFY.NS  RELIANCE.NS   \n",
       "0            0     0 2024-01-15  1650.264893  1610.613770  1389.409424   \n",
       "1            1     1 2024-01-16  1656.529419  1590.579712  1369.975342   \n",
       "2            2     2 2024-01-17  1516.787598  1599.012573  1356.969360   \n",
       "3            3     3 2024-01-18  1466.129395  1601.352295  1363.322876   \n",
       "4            4     4 2024-01-19  1450.838135  1617.535400  1362.824585   \n",
       "\n",
       "Price                       High                            ...          Low  \\\n",
       "Ticker       TCS.NS  HDFCBANK.NS      INFY.NS  RELIANCE.NS  ...  RELIANCE.NS   \n",
       "0       3848.345215  1658.255749  1623.141067  1391.726511  ...  1361.379556   \n",
       "1       3806.448975  1660.968797  1607.104028  1391.577075  ...  1365.864295   \n",
       "2       3829.417969  1575.288787  1606.129309  1381.585884  ...  1350.441589   \n",
       "3       3847.162354  1494.590718  1607.591607  1366.362608  ...  1346.679412   \n",
       "4       3896.022705  1489.904639  1623.677247  1371.345713  ...  1354.403216   \n",
       "\n",
       "Price                       Open                                         \\\n",
       "Ticker       TCS.NS  HDFCBANK.NS      INFY.NS  RELIANCE.NS       TCS.NS   \n",
       "0       3829.812227  1625.502931  1603.643291  1370.349113  3903.746826   \n",
       "1       3800.780655  1650.462244  1603.496987  1385.273396  3843.613385   \n",
       "2       3758.391417  1548.849775  1579.563589  1354.901428  3764.749744   \n",
       "3       3807.138994  1473.873619  1601.401087  1346.828929  3842.627602   \n",
       "4       3868.356651  1485.662518  1610.126270  1371.345713  3897.949400   \n",
       "\n",
       "Price       Volume                                 \n",
       "Ticker HDFCBANK.NS   INFY.NS RELIANCE.NS   TCS.NS  \n",
       "0         14160178  13228305     8610594  2801505  \n",
       "1         12661250   6500917     9069024  1432672  \n",
       "2         85072618   9209876    12197382  3458696  \n",
       "3         80535465   6375464    10279438  2239110  \n",
       "4         54800269   4522736    10422704  2941975  \n",
       "\n",
       "[5 rows x 23 columns]"
      ]
     },
     "execution_count": 16,
     "metadata": {},
     "output_type": "execute_result"
    }
   ],
   "source": [
    "data.head(5)"
   ]
  },
  {
   "cell_type": "code",
   "execution_count": 21,
   "id": "1d36d051-e015-4098-8557-8affc1f55e7f",
   "metadata": {},
   "outputs": [
    {
     "data": {
      "text/plain": [
       "0   2024-01-15\n",
       "1   2024-01-16\n",
       "2   2024-01-17\n",
       "3   2024-01-18\n",
       "4   2024-01-19\n",
       "Name: Date, dtype: datetime64[ns]"
      ]
     },
     "execution_count": 21,
     "metadata": {},
     "output_type": "execute_result"
    }
   ],
   "source": [
    "data['Date'][:5]"
   ]
  },
  {
   "cell_type": "code",
   "execution_count": 27,
   "id": "2e5a1fc1-aa6c-4e63-84f4-83edf76ca884",
   "metadata": {},
   "outputs": [
    {
     "ename": "KeyError",
     "evalue": "\"The following id_vars or value_vars are not present in the DataFrame: ['Date']\"",
     "output_type": "error",
     "traceback": [
      "\u001b[1;31m---------------------------------------------------------------------------\u001b[0m",
      "\u001b[1;31mKeyError\u001b[0m                                  Traceback (most recent call last)",
      "Cell \u001b[1;32mIn[27], line 5\u001b[0m\n\u001b[0;32m      1\u001b[0m \u001b[38;5;66;03m# reset index to bring Date into the columns for the melt function\u001b[39;00m\n\u001b[0;32m      2\u001b[0m \u001b[38;5;66;03m#data = data.reset_index()\u001b[39;00m\n\u001b[0;32m      3\u001b[0m \n\u001b[0;32m      4\u001b[0m \u001b[38;5;66;03m# melt the DataFrame to make it long format where each row is a unique combination of Date, Ticker, and attributes\u001b[39;00m\n\u001b[1;32m----> 5\u001b[0m data_melted \u001b[38;5;241m=\u001b[39m \u001b[43mdata\u001b[49m\u001b[38;5;241;43m.\u001b[39;49m\u001b[43mmelt\u001b[49m\u001b[43m(\u001b[49m\u001b[43mid_vars\u001b[49m\u001b[38;5;241;43m=\u001b[39;49m\u001b[43m[\u001b[49m\u001b[38;5;124;43m'\u001b[39;49m\u001b[38;5;124;43mDate\u001b[39;49m\u001b[38;5;124;43m'\u001b[39;49m\u001b[43m]\u001b[49m\u001b[43m,\u001b[49m\u001b[43m \u001b[49m\u001b[43mvar_name\u001b[49m\u001b[38;5;241;43m=\u001b[39;49m\u001b[43m[\u001b[49m\u001b[38;5;124;43m'\u001b[39;49m\u001b[38;5;124;43mAttribute\u001b[39;49m\u001b[38;5;124;43m'\u001b[39;49m\u001b[43m,\u001b[49m\u001b[43m \u001b[49m\u001b[38;5;124;43m'\u001b[39;49m\u001b[38;5;124;43mTicker\u001b[39;49m\u001b[38;5;124;43m'\u001b[39;49m\u001b[43m]\u001b[49m\u001b[43m)\u001b[49m\n\u001b[0;32m      7\u001b[0m \u001b[38;5;66;03m# pivot the melted DataFrame to have the attributes (Open, High, Low, etc.) as columns\u001b[39;00m\n\u001b[0;32m      8\u001b[0m data_pivoted \u001b[38;5;241m=\u001b[39m data_melted\u001b[38;5;241m.\u001b[39mpivot_table(index\u001b[38;5;241m=\u001b[39m[\u001b[38;5;124m'\u001b[39m\u001b[38;5;124mDate\u001b[39m\u001b[38;5;124m'\u001b[39m, \u001b[38;5;124m'\u001b[39m\u001b[38;5;124mTicker\u001b[39m\u001b[38;5;124m'\u001b[39m], columns\u001b[38;5;241m=\u001b[39m\u001b[38;5;124m'\u001b[39m\u001b[38;5;124mAttribute\u001b[39m\u001b[38;5;124m'\u001b[39m, values\u001b[38;5;241m=\u001b[39m\u001b[38;5;124m'\u001b[39m\u001b[38;5;124mvalue\u001b[39m\u001b[38;5;124m'\u001b[39m, aggfunc\u001b[38;5;241m=\u001b[39m\u001b[38;5;124m'\u001b[39m\u001b[38;5;124mfirst\u001b[39m\u001b[38;5;124m'\u001b[39m)\n",
      "File \u001b[1;32mc:\\Users\\Admin\\Documents\\ML_Projects\\.venv\\Lib\\site-packages\\pandas\\core\\frame.py:9942\u001b[0m, in \u001b[0;36mDataFrame.melt\u001b[1;34m(self, id_vars, value_vars, var_name, value_name, col_level, ignore_index)\u001b[0m\n\u001b[0;32m   9932\u001b[0m \u001b[38;5;129m@Appender\u001b[39m(_shared_docs[\u001b[38;5;124m\"\u001b[39m\u001b[38;5;124mmelt\u001b[39m\u001b[38;5;124m\"\u001b[39m] \u001b[38;5;241m%\u001b[39m {\u001b[38;5;124m\"\u001b[39m\u001b[38;5;124mcaller\u001b[39m\u001b[38;5;124m\"\u001b[39m: \u001b[38;5;124m\"\u001b[39m\u001b[38;5;124mdf.melt(\u001b[39m\u001b[38;5;124m\"\u001b[39m, \u001b[38;5;124m\"\u001b[39m\u001b[38;5;124mother\u001b[39m\u001b[38;5;124m\"\u001b[39m: \u001b[38;5;124m\"\u001b[39m\u001b[38;5;124mmelt\u001b[39m\u001b[38;5;124m\"\u001b[39m})\n\u001b[0;32m   9933\u001b[0m \u001b[38;5;28;01mdef\u001b[39;00m\u001b[38;5;250m \u001b[39m\u001b[38;5;21mmelt\u001b[39m(\n\u001b[0;32m   9934\u001b[0m     \u001b[38;5;28mself\u001b[39m,\n\u001b[1;32m   (...)\u001b[0m\n\u001b[0;32m   9940\u001b[0m     ignore_index: \u001b[38;5;28mbool\u001b[39m \u001b[38;5;241m=\u001b[39m \u001b[38;5;28;01mTrue\u001b[39;00m,\n\u001b[0;32m   9941\u001b[0m ) \u001b[38;5;241m-\u001b[39m\u001b[38;5;241m>\u001b[39m DataFrame:\n\u001b[1;32m-> 9942\u001b[0m     \u001b[38;5;28;01mreturn\u001b[39;00m \u001b[43mmelt\u001b[49m\u001b[43m(\u001b[49m\n\u001b[0;32m   9943\u001b[0m \u001b[43m        \u001b[49m\u001b[38;5;28;43mself\u001b[39;49m\u001b[43m,\u001b[49m\n\u001b[0;32m   9944\u001b[0m \u001b[43m        \u001b[49m\u001b[43mid_vars\u001b[49m\u001b[38;5;241;43m=\u001b[39;49m\u001b[43mid_vars\u001b[49m\u001b[43m,\u001b[49m\n\u001b[0;32m   9945\u001b[0m \u001b[43m        \u001b[49m\u001b[43mvalue_vars\u001b[49m\u001b[38;5;241;43m=\u001b[39;49m\u001b[43mvalue_vars\u001b[49m\u001b[43m,\u001b[49m\n\u001b[0;32m   9946\u001b[0m \u001b[43m        \u001b[49m\u001b[43mvar_name\u001b[49m\u001b[38;5;241;43m=\u001b[39;49m\u001b[43mvar_name\u001b[49m\u001b[43m,\u001b[49m\n\u001b[0;32m   9947\u001b[0m \u001b[43m        \u001b[49m\u001b[43mvalue_name\u001b[49m\u001b[38;5;241;43m=\u001b[39;49m\u001b[43mvalue_name\u001b[49m\u001b[43m,\u001b[49m\n\u001b[0;32m   9948\u001b[0m \u001b[43m        \u001b[49m\u001b[43mcol_level\u001b[49m\u001b[38;5;241;43m=\u001b[39;49m\u001b[43mcol_level\u001b[49m\u001b[43m,\u001b[49m\n\u001b[0;32m   9949\u001b[0m \u001b[43m        \u001b[49m\u001b[43mignore_index\u001b[49m\u001b[38;5;241;43m=\u001b[39;49m\u001b[43mignore_index\u001b[49m\u001b[43m,\u001b[49m\n\u001b[0;32m   9950\u001b[0m \u001b[43m    \u001b[49m\u001b[43m)\u001b[49m\u001b[38;5;241m.\u001b[39m__finalize__(\u001b[38;5;28mself\u001b[39m, method\u001b[38;5;241m=\u001b[39m\u001b[38;5;124m\"\u001b[39m\u001b[38;5;124mmelt\u001b[39m\u001b[38;5;124m\"\u001b[39m)\n",
      "File \u001b[1;32mc:\\Users\\Admin\\Documents\\ML_Projects\\.venv\\Lib\\site-packages\\pandas\\core\\reshape\\melt.py:74\u001b[0m, in \u001b[0;36mmelt\u001b[1;34m(frame, id_vars, value_vars, var_name, value_name, col_level, ignore_index)\u001b[0m\n\u001b[0;32m     70\u001b[0m \u001b[38;5;28;01mif\u001b[39;00m missing\u001b[38;5;241m.\u001b[39many():\n\u001b[0;32m     71\u001b[0m     missing_labels \u001b[38;5;241m=\u001b[39m [\n\u001b[0;32m     72\u001b[0m         lab \u001b[38;5;28;01mfor\u001b[39;00m lab, not_found \u001b[38;5;129;01min\u001b[39;00m \u001b[38;5;28mzip\u001b[39m(labels, missing) \u001b[38;5;28;01mif\u001b[39;00m not_found\n\u001b[0;32m     73\u001b[0m     ]\n\u001b[1;32m---> 74\u001b[0m     \u001b[38;5;28;01mraise\u001b[39;00m \u001b[38;5;167;01mKeyError\u001b[39;00m(\n\u001b[0;32m     75\u001b[0m         \u001b[38;5;124m\"\u001b[39m\u001b[38;5;124mThe following id_vars or value_vars are not present in \u001b[39m\u001b[38;5;124m\"\u001b[39m\n\u001b[0;32m     76\u001b[0m         \u001b[38;5;124mf\u001b[39m\u001b[38;5;124m\"\u001b[39m\u001b[38;5;124mthe DataFrame: \u001b[39m\u001b[38;5;132;01m{\u001b[39;00mmissing_labels\u001b[38;5;132;01m}\u001b[39;00m\u001b[38;5;124m\"\u001b[39m\n\u001b[0;32m     77\u001b[0m     )\n\u001b[0;32m     78\u001b[0m \u001b[38;5;28;01mif\u001b[39;00m value_vars_was_not_none:\n\u001b[0;32m     79\u001b[0m     frame \u001b[38;5;241m=\u001b[39m frame\u001b[38;5;241m.\u001b[39miloc[:, algos\u001b[38;5;241m.\u001b[39munique(idx)]\n",
      "\u001b[1;31mKeyError\u001b[0m: \"The following id_vars or value_vars are not present in the DataFrame: ['Date']\""
     ]
    }
   ],
   "source": [
    "# reset index to bring Date into the columns for the melt function\n",
    "#data = data.reset_index()\n",
    "\n",
    "# melt the DataFrame to make it long format where each row is a unique combination of Date, Ticker, and attributes\n",
    "data_melted = data.melt(id_vars=['Date'], var_name=['Attribute', 'Ticker'])\n",
    "\n",
    "# pivot the melted DataFrame to have the attributes (Open, High, Low, etc.) as columns\n",
    "data_pivoted = data_melted.pivot_table(index=['Date', 'Ticker'], columns='Attribute', values='value', aggfunc='first')\n",
    "\n",
    "# reset index to turn multi-index into columns\n",
    "stock_data = data_pivoted.reset_index()\n",
    "\n",
    "print(stock_data.head())"
   ]
  },
  {
   "cell_type": "markdown",
   "id": "0a4b4a42-0f63-418f-b815-80b770fd8e6c",
   "metadata": {},
   "source": [
    "Now, let’s have a look at the stock market performance of these companies in the stock market over time:"
   ]
  },
  {
   "cell_type": "code",
   "execution_count": 6,
   "id": "52546b56-ec6f-4db0-b582-71acfa655736",
   "metadata": {},
   "outputs": [
    {
     "ename": "NameError",
     "evalue": "name 'stock_data' is not defined",
     "output_type": "error",
     "traceback": [
      "\u001b[1;31m---------------------------------------------------------------------------\u001b[0m",
      "\u001b[1;31mNameError\u001b[0m                                 Traceback (most recent call last)",
      "Cell \u001b[1;32mIn[6], line 4\u001b[0m\n\u001b[0;32m      1\u001b[0m \u001b[38;5;28;01mimport\u001b[39;00m \u001b[38;5;21;01mmatplotlib\u001b[39;00m\u001b[38;5;21;01m.\u001b[39;00m\u001b[38;5;21;01mpyplot\u001b[39;00m \u001b[38;5;28;01mas\u001b[39;00m \u001b[38;5;21;01mplt\u001b[39;00m\n\u001b[0;32m      2\u001b[0m \u001b[38;5;28;01mimport\u001b[39;00m \u001b[38;5;21;01mseaborn\u001b[39;00m \u001b[38;5;28;01mas\u001b[39;00m \u001b[38;5;21;01msns\u001b[39;00m\n\u001b[1;32m----> 4\u001b[0m stock_data[\u001b[38;5;124m'\u001b[39m\u001b[38;5;124mDate\u001b[39m\u001b[38;5;124m'\u001b[39m] \u001b[38;5;241m=\u001b[39m pd\u001b[38;5;241m.\u001b[39mto_datetime(\u001b[43mstock_data\u001b[49m[\u001b[38;5;124m'\u001b[39m\u001b[38;5;124mDate\u001b[39m\u001b[38;5;124m'\u001b[39m])\n\u001b[0;32m      6\u001b[0m stock_data\u001b[38;5;241m.\u001b[39mset_index(\u001b[38;5;124m'\u001b[39m\u001b[38;5;124mDate\u001b[39m\u001b[38;5;124m'\u001b[39m, inplace\u001b[38;5;241m=\u001b[39m\u001b[38;5;28;01mTrue\u001b[39;00m)\n\u001b[0;32m      7\u001b[0m stock_data\u001b[38;5;241m.\u001b[39mreset_index(inplace\u001b[38;5;241m=\u001b[39m\u001b[38;5;28;01mTrue\u001b[39;00m)\n",
      "\u001b[1;31mNameError\u001b[0m: name 'stock_data' is not defined"
     ]
    }
   ],
   "source": [
    "import matplotlib.pyplot as plt\n",
    "import seaborn as sns\n",
    "\n",
    "stock_data['Date'] = pd.to_datetime(stock_data['Date'])\n",
    "\n",
    "stock_data.set_index('Date', inplace=True)\n",
    "stock_data.reset_index(inplace=True)\n",
    "plt.figure(figsize=(14, 7))\n",
    "sns.set(style='whitegrid')\n",
    "\n",
    "sns.lineplot(data=stock_data, x='Date', y='Adj Close', hue='Ticker', marker='o')\n",
    "\n",
    "plt.title('Adjusted Close Price Over Time', fontsize=16)\n",
    "plt.xlabel('Date', fontsize=14)\n",
    "plt.ylabel('Adjusted Close Price', fontsize=14)\n",
    "plt.legend(title='Ticker', title_fontsize='13', fontsize='11')\n",
    "plt.grid(True)\n",
    "\n",
    "plt.xticks(rotation=45)\n",
    "\n",
    "plt.show()"
   ]
  },
  {
   "cell_type": "markdown",
   "id": "9caca11a-1651-4eca-90c5-661ae6174619",
   "metadata": {},
   "source": [
    "The graph displays the adjusted close prices of four stocks (HDFCBANK.NS, INFY.NS, RELIANCE.NS, TCS.NS) over time from July 2023 to July 2024. It highlights that TCS has the highest adjusted close prices, followed by RELIANCE, INFY (Infosys), and HDFCBANK. The prices for RELIANCE and TCS show noticeable upward trends, which indicates strong performance, while HDFCBANK and INFY exhibit more stability with relatively lower price fluctuations.\n",
    "\n",
    "Now, let’s compute the 50-day and 200-day moving averages and plot these along with the Adjusted Close price for each stock:"
   ]
  },
  {
   "cell_type": "code",
   "execution_count": null,
   "id": "049c1853-9c18-488a-b846-12751913e14d",
   "metadata": {},
   "outputs": [],
   "source": [
    "short_window = 50\n",
    "long_window = 200\n",
    "\n",
    "stock_data.set_index('Date', inplace=True)\n",
    "unique_tickers = stock_data['Ticker'].unique()\n",
    "\n",
    "for ticker in unique_tickers:\n",
    "    ticker_data = stock_data[stock_data['Ticker'] == ticker].copy()\n",
    "    ticker_data['50_MA'] = ticker_data['Adj Close'].rolling(window=short_window).mean()\n",
    "    ticker_data['200_MA'] = ticker_data['Adj Close'].rolling(window=long_window).mean()\n",
    "\n",
    "    plt.figure(figsize=(14, 7))\n",
    "    plt.plot(ticker_data.index, ticker_data['Adj Close'], label='Adj Close')\n",
    "    plt.plot(ticker_data.index, ticker_data['50_MA'], label='50-Day MA')\n",
    "    plt.plot(ticker_data.index, ticker_data['200_MA'], label='200-Day MA')\n",
    "    plt.title(f'{ticker} - Adjusted Close and Moving Averages')\n",
    "    plt.xlabel('Date')\n",
    "    plt.ylabel('Price')\n",
    "    plt.legend()\n",
    "    plt.grid(True)\n",
    "    plt.xticks(rotation=45)\n",
    "    plt.tight_layout()\n",
    "    plt.show()\n",
    "\n",
    "    plt.figure(figsize=(14, 7))\n",
    "    plt.bar(ticker_data.index, ticker_data['Volume'], label='Volume', color='orange')\n",
    "    plt.title(f'{ticker} - Volume Traded')\n",
    "    plt.xlabel('Date')\n",
    "    plt.ylabel('Volume')\n",
    "    plt.legend()\n",
    "    plt.grid(True)\n",
    "    plt.xticks(rotation=45)\n",
    "    plt.tight_layout()\n",
    "    plt.show()"
   ]
  },
  {
   "cell_type": "markdown",
   "id": "72e46472-6bae-4724-bbd0-35f80250f365",
   "metadata": {},
   "source": [
    "For HDFCBANK and INFY, the prices initially decline but later show signs of recovery, as indicated by the moving averages. RELIANCE and TCS display a more consistent upward trend in their adjusted close prices. The volume traded graphs highlight significant trading activity at various points, with spikes indicating high trading volumes, particularly noticeable in HDFCBANK and RELIANCE around early 2024. These insights are crucial for understanding price movements and trading behaviours, which assist in making informed investment decisions.\n",
    "\n",
    "Now, let’s have a look at the distribution of daily returns of these stocks:"
   ]
  },
  {
   "cell_type": "code",
   "execution_count": null,
   "id": "5788e54d-0c41-49aa-9063-675661cd8a0c",
   "metadata": {},
   "outputs": [],
   "source": [
    "stock_data['Daily Return'] = stock_data.groupby('Ticker')['Adj Close'].pct_change()\n",
    "\n",
    "plt.figure(figsize=(14, 7))\n",
    "sns.set(style='whitegrid')\n",
    "\n",
    "for ticker in unique_tickers:\n",
    "    ticker_data = stock_data[stock_data['Ticker'] == ticker]\n",
    "    sns.histplot(ticker_data['Daily Return'].dropna(), bins=50, kde=True, label=ticker, alpha=0.5)\n",
    "\n",
    "plt.title('Distribution of Daily Returns', fontsize=16)\n",
    "plt.xlabel('Daily Return', fontsize=14)\n",
    "plt.ylabel('Frequency', fontsize=14)\n",
    "plt.legend(title='Ticker', title_fontsize='13', fontsize='11')\n",
    "plt.grid(True)\n",
    "plt.tight_layout()\n",
    "plt.show()"
   ]
  },
  {
   "cell_type": "markdown",
   "id": "7642b848-a104-4f8d-826a-6f3a47f20598",
   "metadata": {},
   "source": [
    "The distributions are approximately normal, centred around zero, which indicates that most daily returns are close to the average return. However, there are tails on both sides, which reflect occasional significant gains or losses. INFY and RELIANCE appear to have slightly wider distributions, which suggests higher volatility compared to HDFCBANK and TCS.\n",
    "\n",
    "Now, let’s see if there’s any correlation between all these stocks:"
   ]
  },
  {
   "cell_type": "code",
   "execution_count": null,
   "id": "0f78e412-f290-46a9-a4b2-453114507cbd",
   "metadata": {},
   "outputs": [],
   "source": [
    "daily_returns = stock_data.pivot_table(index='Date', columns='Ticker', values='Daily Return')\n",
    "correlation_matrix = daily_returns.corr()\n",
    "\n",
    "plt.figure(figsize=(12, 10))\n",
    "sns.set(style='whitegrid')\n",
    "\n",
    "sns.heatmap(correlation_matrix, annot=True, cmap='coolwarm', linewidths=.5, fmt='.2f', annot_kws={\"size\": 10})\n",
    "plt.title('Correlation Matrix of Daily Returns', fontsize=16)\n",
    "plt.xticks(rotation=90)\n",
    "plt.yticks(rotation=0)\n",
    "plt.tight_layout()\n",
    "plt.show()"
   ]
  },
  {
   "cell_type": "markdown",
   "id": "8ac21cc7-3afc-44ec-8d5c-3006bab81e3b",
   "metadata": {},
   "source": [
    "INFY and TCS have a high positive correlation (0.71), which indicates that they tend to move in the same direction. HDFCBANK has a moderate positive correlation with RELIANCE (0.37) and a low correlation with INFY (0.17) and TCS (0.10). RELIANCE shows a low correlation with INFY (0.19) and TCS (0.13). These varying correlations suggest potential diversification benefits; combining stocks with lower correlations can reduce overall portfolio risk."
   ]
  },
  {
   "cell_type": "markdown",
   "id": "52685e0b-c36b-4f0d-b17d-17c04add4c77",
   "metadata": {},
   "source": [
    "### Portfolio Optimization\n",
    "\n",
    "Now, using Modern Portfolio Theory, we can construct an efficient portfolio by balancing risk and return. We will:\n",
    "\n",
    "Calculate the expected returns and volatility for each stock.\n",
    "Generate a series of random portfolios to identify the efficient frontier.\n",
    "Optimize the portfolio to maximize the Sharpe ratio, which is a measure of risk-adjusted return.\n",
    "Let’s calculate the expected returns and volatility for each stock:"
   ]
  },
  {
   "cell_type": "code",
   "execution_count": null,
   "id": "9d02a37e-37ac-450b-9833-451944f87015",
   "metadata": {},
   "outputs": [],
   "source": [
    "import numpy as np\n",
    "\n",
    "expected_returns = daily_returns.mean() * 252 # annualize the returns\n",
    "volatility = daily_returns.std() * np.sqrt(252) # annualize the volatility\n",
    "\n",
    "stocks_stats = pd.DataFrame({\n",
    "    'Expected Return': expected_returns,\n",
    "    'Volatility': volatility\n",
    "})\n",
    "\n",
    "stocks_stats"
   ]
  },
  {
   "cell_type": "markdown",
   "id": "e7fb8702-c40b-440f-8982-84d3a381a376",
   "metadata": {},
   "source": [
    "RELIANCE has the highest expected return (29.73%) and moderate volatility (21.47%), which indicates a potentially high-reward investment with relatively higher risk. INFY and TCS also have high expected returns (21.38% and 22.09% respectively) with moderate volatility (23.23% and 19.69%). HDFCBANK has the lowest expected return (1.37%) and moderate volatility (20.69%), which makes it the least attractive in terms of risk-adjusted returns."
   ]
  },
  {
   "cell_type": "markdown",
   "id": "275d63ae-abdc-46d3-b24a-b27a6a9920c1",
   "metadata": {},
   "source": [
    "Next, we will:\n",
    "\n",
    "Generate a large number of random portfolio weights.\n",
    "Calculate the expected return and volatility for each portfolio.\n",
    "Plot these portfolios to visualize the efficient frontier.\n",
    "Let’s generate the random portfolios and plot the efficient frontier:"
   ]
  },
  {
   "cell_type": "code",
   "execution_count": null,
   "id": "372e9082-b971-44ad-a1ba-7e714946c2a6",
   "metadata": {},
   "outputs": [],
   "source": [
    "# function to calculate portfolio performance\n",
    "def portfolio_performance(weights, returns, cov_matrix):\n",
    "    portfolio_return = np.dot(weights, returns)\n",
    "    portfolio_volatility = np.sqrt(np.dot(weights.T, np.dot(cov_matrix, weights)))\n",
    "    return portfolio_return, portfolio_volatility\n",
    "\n",
    "    # number of portfolios to simulate\n",
    "    num_portfolios = 10000\n",
    "    \n",
    "    # arrays to store the results\n",
    "    results = np.zeros((3, num_portfolios))\n",
    "    \n",
    "    # annualized covariance matrix\n",
    "    cov_matrix = daily_returns.cov() * 252\n",
    "    \n",
    "    np.random.seed(42)\n",
    "    \n",
    "    for i in range(num_portfolios):\n",
    "        weights = np.random.random(len(unique_tickers))\n",
    "        weights /= np.sum(weights)\n",
    "    \n",
    "        portfolio_return, portfolio_volatility = portfolio_performance(weights, expected_returns, cov_matrix)\n",
    "    \n",
    "        results[0,i] = portfolio_return\n",
    "        results[1,i] = portfolio_volatility\n",
    "        results[2,i] = portfolio_return / portfolio_volatility  # Sharpe Ratio\n",
    "    \n",
    "    plt.figure(figsize=(10, 7))\n",
    "    plt.scatter(results[1,:], results[0,:], c=results[2,:], cmap='YlGnBu', marker='o')\n",
    "    plt.title('Efficient Frontier')\n",
    "    plt.xlabel('Volatility (Standard Deviation)')\n",
    "    plt.ylabel('Expected Return')\n",
    "    plt.colorbar(label='Sharpe Ratio')\n",
    "    plt.grid(True)\n",
    "    plt.show()"
   ]
  },
  {
   "cell_type": "markdown",
   "id": "8f495902-3989-4808-b8d9-348de4b1593c",
   "metadata": {},
   "source": [
    "Each dot represents a portfolio, with the colour indicating the Sharpe ratio, a measure of risk-adjusted return. Portfolios on the leftmost edge of the frontier (closer to the y-axis) offer the highest expected returns for a given level of volatility, which represent optimal portfolios. The gradient shows that portfolios with higher Sharpe ratios (darker blue) provide better risk-adjusted returns.\n",
    "\n",
    "Here’s how to identify the portfolio with the maximum Sharpe ratio:"
   ]
  },
  {
   "cell_type": "code",
   "execution_count": null,
   "id": "c84c82b2-37b0-46e5-bdfc-3ea564b46874",
   "metadata": {},
   "outputs": [],
   "source": [
    "max_sharpe_idx = np.argmax(results[2])\n",
    "max_sharpe_return = results[0, max_sharpe_idx]\n",
    "max_sharpe_volatility = results[1, max_sharpe_idx]\n",
    "max_sharpe_ratio = results[2, max_sharpe_idx]\n",
    "\n",
    "max_sharpe_return, max_sharpe_volatility, max_sharpe_ratio"
   ]
  },
  {
   "cell_type": "markdown",
   "id": "a482f7f1-f99e-4060-a7e5-f3e8f71250ad",
   "metadata": {},
   "source": [
    "The portfolio with the maximum Sharpe ratio has the following characteristics:\n",
    "\n",
    "- Expected Return: ~26.08%\n",
    "- Volatility: ~15.54%\n",
    "- Sharpe Ratio: ~1.68\n",
    "Next, let’s identify the weights of the stocks in the portfolio that yield the maximum Sharpe ratio:"
   ]
  },
  {
   "cell_type": "code",
   "execution_count": null,
   "id": "21f1d5bb-7126-4d7b-823f-4fa6b77f94c6",
   "metadata": {},
   "outputs": [],
   "source": [
    "max_sharpe_weights = np.zeros(len(unique_tickers))\n",
    "\n",
    "for i in range(num_portfolios):\n",
    "    weights = np.random.random(len(unique_tickers))\n",
    "    weights /= np.sum(weights)\n",
    "\n",
    "    portfolio_return, portfolio_volatility = portfolio_performance(weights, expected_returns, cov_matrix)\n",
    "\n",
    "    if results[2, i] == max_sharpe_ratio:\n",
    "        max_sharpe_weights = weights\n",
    "        break\n",
    "\n",
    "portfolio_weights_df = pd.DataFrame({\n",
    "    'Ticker': unique_tickers,\n",
    "    'Weight': max_sharpe_weights\n",
    "})\n",
    "\n",
    "portfolio_weights_df"
   ]
  },
  {
   "cell_type": "markdown",
   "id": "3c742d2a-261d-40fe-9905-c98ca364d4d0",
   "metadata": {},
   "source": [
    "The output shows a diversified portfolio with the following allocations:\n",
    "\n",
    "1. HDFCBANK (30.85%)\n",
    "2. INFY (10.59%)\n",
    "3. RELIANCE (18.02%)\n",
    "4. and TCS (40.53%).\n",
    "\n",
    "TCS has the highest allocation, which indicates its significant contribution to the portfolio’s performance, while INFY has the smallest allocation. This balanced allocation aims to maximize returns while minimizing risk by leveraging individual stock performances and their correlations."
   ]
  },
  {
   "cell_type": "code",
   "execution_count": null,
   "id": "b9a607b4-9aba-420a-ade6-3052c1e5e4e0",
   "metadata": {},
   "outputs": [],
   "source": []
  }
 ],
 "metadata": {
  "kernelspec": {
   "display_name": "Python 3 (ipykernel)",
   "language": "python",
   "name": "python3"
  },
  "language_info": {
   "codemirror_mode": {
    "name": "ipython",
    "version": 3
   },
   "file_extension": ".py",
   "mimetype": "text/x-python",
   "name": "python",
   "nbconvert_exporter": "python",
   "pygments_lexer": "ipython3",
   "version": "3.13.1"
  }
 },
 "nbformat": 4,
 "nbformat_minor": 5
}
